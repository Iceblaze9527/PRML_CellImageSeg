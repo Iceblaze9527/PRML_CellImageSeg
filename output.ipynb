{
 "cells": [
  {
   "cell_type": "code",
   "execution_count": null,
   "metadata": {},
   "outputs": [],
   "source": [
    "from UNet import UNet\n",
    "import Output"
   ]
  },
  {
   "cell_type": "code",
   "execution_count": null,
   "metadata": {},
   "outputs": [],
   "source": [
    "save_path = 'saved_models/46_all_fl_best_0.95.tar'##\n",
    "\n",
    "test_path = 'dataset1/test/'\n",
    "result_path = 'dataset1/test_RES/'\n",
    "pad = 6\n",
    "\n",
    "in_channels=1 \n",
    "n_classes=2\n",
    "depth=4\n",
    "wf=6\n",
    "padding=True\n",
    "batch_norm=False\n",
    "up_mode='upconv'"
   ]
  },
  {
   "cell_type": "code",
   "execution_count": null,
   "metadata": {},
   "outputs": [],
   "source": [
    "best_model = UNet(\n",
    "            in_channels=in_channels, \n",
    "            n_classes=n_classes, \n",
    "            depth=depth, \n",
    "            wf=wf, \n",
    "            padding=padding, \n",
    "            batch_norm=batch_norm, \n",
    "            up_mode=up_mode)\n",
    "\n",
    "checkpoint = torch.load(save_path)\n",
    "best_model.load_state_dict(checkpoint['model_state_dict'])\n",
    "epoch = checkpoint['epoch']\n",
    "print('best epoch:', epoch) "
   ]
  },
  {
   "cell_type": "code",
   "execution_count": null,
   "metadata": {},
   "outputs": [],
   "source": [
    "Output.test_out(best_model, test_path, result_path, pad)"
   ]
  },
  {
   "cell_type": "code",
   "execution_count": null,
   "metadata": {},
   "outputs": [],
   "source": []
  }
 ],
 "metadata": {
  "kernelspec": {
   "display_name": "Python 3",
   "language": "python",
   "name": "python3"
  },
  "language_info": {
   "codemirror_mode": {
    "name": "ipython",
    "version": 3
   },
   "file_extension": ".py",
   "mimetype": "text/x-python",
   "name": "python",
   "nbconvert_exporter": "python",
   "pygments_lexer": "ipython3",
   "version": "3.7.7"
  }
 },
 "nbformat": 4,
 "nbformat_minor": 4
}