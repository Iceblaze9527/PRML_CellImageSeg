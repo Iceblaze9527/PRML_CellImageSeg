{
 "cells": [
  {
   "cell_type": "code",
   "execution_count": 1,
   "metadata": {},
   "outputs": [],
   "source": [
    "from __future__ import absolute_import\n",
    "\n",
    "import cv2\n",
    "import imageio\n",
    "import numpy as np\n",
    "import os\n",
    "import os.path as osp"
   ]
  },
  {
   "cell_type": "code",
   "execution_count": 2,
   "metadata": {},
   "outputs": [],
   "source": [
    "def unit16b2uint8(img):\n",
    "    if img.dtype == 'uint8':\n",
    "        return img\n",
    "    elif img.dtype == 'uint16':\n",
    "        return img.astype(np.uint8)\n",
    "    else:\n",
    "        raise TypeError('No such of img transfer type: {} for img'.format(img.dtype))"
   ]
  },
  {
   "cell_type": "code",
   "execution_count": 3,
   "metadata": {},
   "outputs": [],
   "source": [
    "def img_standardization(img):\n",
    "    img = unit16b2uint8(img)\n",
    "    if len(img.shape) == 2:\n",
    "        img = np.expand_dims(img, 2)\n",
    "        img = np.tile(img, (1, 1, 3))\n",
    "        return img\n",
    "    elif len(img.shape) == 3:\n",
    "        return img\n",
    "    else:\n",
    "        raise TypeError('The Depth of image large than 3 \\n')"
   ]
  },
  {
   "cell_type": "code",
   "execution_count": 4,
   "metadata": {},
   "outputs": [],
   "source": [
    "def load_images(file_names):\n",
    "    images = []\n",
    "    for file_name in file_names:\n",
    "        img = cv2.imread(file_name, -1)\n",
    "        img = img_standardization(img)\n",
    "        images.append(img)\n",
    "    return images"
   ]
  },
  {
   "cell_type": "code",
   "execution_count": 5,
   "metadata": {},
   "outputs": [],
   "source": [
    "def bgr_to_gray(img):\n",
    "    img = cv2.cvtColor(img, cv2.COLOR_BGR2GRAY)\n",
    "    return img "
   ]
  },
  {
   "cell_type": "code",
   "execution_count": 6,
   "metadata": {},
   "outputs": [],
   "source": [
    "class BinaryThresholding:\n",
    "    def __init__(self, threshold):\n",
    "        self.threshold = threshold\n",
    "\n",
    "    def __call__(self, img):\n",
    "        gray = bgr_to_gray(img)\n",
    "        (_, binary_mask) = cv2.threshold(gray, self.threshold, 255, cv2.THRESH_BINARY)\n",
    "        binary_mask = cv2.medianBlur(binary_mask, 5)\n",
    "        connectivity = 4\n",
    "        _, label_img, _, _ = cv2.connectedComponentsWithStats(binary_mask , connectivity , cv2.CV_32S)\n",
    "        return label_img"
   ]
  },
  {
   "cell_type": "code",
   "execution_count": 7,
   "metadata": {},
   "outputs": [],
   "source": [
    "if __name__ == \"__main__\":\n",
    "    segmentor = BinaryThresholding(threshold=110)\n",
    "    image_path = './dataset1/test/'\n",
    "    result_path = './dataset1/test_RES'\n",
    "    if not osp.exists(result_path):\n",
    "        os.mkdir(result_path)\n",
    "    image_list = sorted([osp.join(image_path, image) for image in os.listdir(image_path)])\n",
    "    images = load_images(image_list)\n",
    "    for index, image in enumerate(images):\n",
    "        label_img = segmentor(image)\n",
    "        imageio.imwrite(osp.join(result_path, 'mask{:0>3d}.tif'.format(index)), label_img.astype(np.uint16))"
   ]
  },
  {
   "cell_type": "code",
   "execution_count": null,
   "metadata": {},
   "outputs": [],
   "source": []
  },
  {
   "cell_type": "code",
   "execution_count": null,
   "metadata": {},
   "outputs": [],
   "source": []
  }
 ],
 "metadata": {
  "kernelspec": {
   "display_name": "Python [conda env:prml_pro] *",
   "language": "python",
   "name": "conda-env-prml_pro-py"
  },
  "language_info": {
   "codemirror_mode": {
    "name": "ipython",
    "version": 3
   },
   "file_extension": ".py",
   "mimetype": "text/x-python",
   "name": "python",
   "nbconvert_exporter": "python",
   "pygments_lexer": "ipython3",
   "version": "3.7.7"
  }
 },
 "nbformat": 4,
 "nbformat_minor": 4
}
